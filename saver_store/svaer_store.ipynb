{
 "cells": [
  {
   "cell_type": "code",
   "execution_count": 3,
   "metadata": {},
   "outputs": [],
   "source": [
    "import tensorflow as tf\n",
    "import numpy as np\n",
    "\n",
    "## Save to file\n",
    "# remember to define the same dtype and shape when restore\n",
    "W = tf.Variable([[1,2,3],[3,4,5]], dtype=tf.float32, name='weights')\n",
    "b = tf.Variable([[1,2,3]], dtype=tf.float32, name='biases')\n",
    "\n",
    "# init= tf.initialize_all_variables() # tf 马上就要废弃这种写法\n",
    "# 替换成下面的写法:\n",
    "init = tf.global_variables_initializer()"
   ]
  },
  {
   "cell_type": "code",
   "execution_count": 9,
   "metadata": {},
   "outputs": [
    {
     "name": "stdout",
     "output_type": "stream",
     "text": [
      "/home/piker/Desktop/save_net.ckpt\n"
     ]
    }
   ],
   "source": [
    "# remember to define the same dtype and shape whem there\n",
    "saver=tf.train.Saver()\n",
    "\n",
    "with tf.Session() as sess:\n",
    "    sess.run(init)\n",
    "    save_path=saver.save(sess,\"/home/piker/Desktop/save_net.ckpt\")\n",
    "    print(save_path)"
   ]
  },
  {
   "cell_type": "code",
   "execution_count": 3,
   "metadata": {},
   "outputs": [],
   "source": [
    "import tensorflow as tf\n",
    "import numpy as np"
   ]
  },
  {
   "cell_type": "code",
   "execution_count": 8,
   "metadata": {},
   "outputs": [
    {
     "name": "stdout",
     "output_type": "stream",
     "text": [
      "INFO:tensorflow:Restoring parameters from /home/piker/Desktop/save_net.ckpt\n",
      "[[1. 2. 3.]\n",
      " [3. 4. 5.]]\n",
      "[[1. 2. 3.]]\n"
     ]
    }
   ],
   "source": [
    "# retore variables\n",
    "# redfine\n",
    "W = tf.Variable(np.arange(6).reshape((2,3)),dtype=tf.float32,name='weights')\n",
    "b = tf.Variable(np.arange(3).reshape((1, 3)), dtype=tf.float32, name='biases')\n",
    "\n",
    "saver=tf.train.Saver()\n",
    "with tf.Session() as sess:\n",
    "    saver.restore(sess,\"/home/piker/Desktop/save_net.ckpt\")\n",
    "    print(sess.run(W))\n",
    "    print(sess.run(b))\n"
   ]
  },
  {
   "cell_type": "code",
   "execution_count": null,
   "metadata": {},
   "outputs": [],
   "source": [
    "# saver 保存只能保存变量，不能保存框架！！！\n",
    "# retore 还要再训练一遍",
    "# 学习链接：莫凡pytho https://morvanzhou.github.io/tutorials/machine-learning/tensorflow/5-06-save/"
   ]
  }
 ],
 "metadata": {
  "kernelspec": {
   "display_name": "Python 3",
   "language": "python",
   "name": "python3"
  },
  "language_info": {
   "codemirror_mode": {
    "name": "ipython",
    "version": 3
   },
   "file_extension": ".py",
   "mimetype": "text/x-python",
   "name": "python",
   "nbconvert_exporter": "python",
   "pygments_lexer": "ipython3",
   "version": "3.6.8"
  }
 },
 "nbformat": 4,
 "nbformat_minor": 2
}
